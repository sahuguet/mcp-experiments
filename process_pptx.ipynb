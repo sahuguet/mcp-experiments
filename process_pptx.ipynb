{
 "cells": [
  {
   "cell_type": "code",
   "execution_count": 32,
   "metadata": {},
   "outputs": [],
   "source": [
    "from pptx import Presentation\n",
    "import json\n",
    "\n",
    "import os\n",
    "\n",
    "FOLDER = '/Users/sahuguet/Downloads/PPTX'\n",
    "pptx_files = [os.path.join(FOLDER, file) for file in os.listdir(FOLDER) if file.endswith('.pptx')]"
   ]
  },
  {
   "cell_type": "code",
   "execution_count": 49,
   "metadata": {},
   "outputs": [],
   "source": [
    "\n",
    "def process_pptx_file(f):\n",
    "    print(f'Processing {f} ...')\n",
    "    # Creating folder\n",
    "    folder_name = f'{f}_d'\n",
    "    if not os.path.exists(folder_name):\n",
    "        os.makedirs(folder_name)\n",
    "        print(f'Folder created: {folder_name}')\n",
    "\n",
    "    prs = Presentation(f)\n",
    "\n",
    "    core_properties = prs.core_properties\n",
    "    metadata = {\n",
    "        'author': core_properties.author,\n",
    "        'category': core_properties.category,\n",
    "        'comments': core_properties.comments,\n",
    "        'content_status': core_properties.content_status,\n",
    "        'created': str(core_properties.created),\n",
    "        'identifier': core_properties.identifier,\n",
    "        'keywords': core_properties.keywords,\n",
    "        'language': core_properties.language,\n",
    "        'last_modified_by': str(core_properties.last_modified_by),\n",
    "        'last_printed': str(core_properties.last_printed),\n",
    "        'modified': str(core_properties.modified),\n",
    "        'revision': str(core_properties.revision),\n",
    "        'subject': core_properties.subject,\n",
    "        'title': core_properties.title,\n",
    "        'version': core_properties.version\n",
    "    }\n",
    "    print(metadata)\n",
    "    \n",
    "    with open(os.path.join(folder_name, 'metadata.json'), 'w') as file:\n",
    "        json.dump(metadata, file, indent=True)\n",
    "\n",
    "    # We process all text content into `content.txt`.\n",
    "    all_text = []\n",
    "    image_counter = 0\n",
    "    for index, slide in enumerate(prs.slides):\n",
    "        all_text.append(f'\\n=== Slide {str(index+1).zfill(3)} ===')\n",
    "        for shape in slide.shapes:\n",
    "            if shape.shape_type == 13:  # shape_type 13 corresponds to picture\n",
    "                image_counter += 1\n",
    "                image = shape.image\n",
    "                image_bytes = image.blob\n",
    "                image_ext = image.ext\n",
    "                image_filename = f'image{str(image_counter).zfill(3)}.{image_ext}'\n",
    "                image_path = os.path.join(folder_name, image_filename)\n",
    "                \n",
    "                # Save the image\n",
    "                with open(image_path, 'wb') as img_file:\n",
    "                    img_file.write(image_bytes)\n",
    "                continue\n",
    "\n",
    "            if not shape.has_text_frame:\n",
    "                continue\n",
    "            for paragraph in shape.text_frame.paragraphs:\n",
    "                for run in paragraph.runs:\n",
    "                    all_text.append(run.text)\n",
    "    with open(os.path.join(folder_name, 'content.txt'), 'w') as file:\n",
    "        file.write('\\n'.join(all_text))\n"
   ]
  },
  {
   "cell_type": "code",
   "execution_count": 51,
   "metadata": {},
   "outputs": [
    {
     "name": "stdout",
     "output_type": "stream",
     "text": [
      "Processing /Users/sahuguet/Downloads/PPTX/Untitled presentation.pptx ...\n",
      "{'author': '', 'category': '', 'comments': '', 'content_status': '', 'created': 'None', 'identifier': '', 'keywords': '', 'language': '', 'last_modified_by': 'python-pptx', 'last_printed': 'None', 'modified': '2024-04-08 03:40:52', 'revision': '1', 'subject': '', 'title': 'PowerPoint Presentation', 'version': ''}\n",
      "Processing /Users/sahuguet/Downloads/PPTX/Child Not Found 404.pptx ...\n",
      "{'author': '', 'category': '', 'comments': '', 'content_status': '', 'created': 'None', 'identifier': '', 'keywords': '', 'language': '', 'last_modified_by': 'python-pptx', 'last_printed': 'None', 'modified': '2024-04-08 03:40:52', 'revision': '1', 'subject': '', 'title': 'PowerPoint Presentation', 'version': ''}\n"
     ]
    },
    {
     "name": "stdout",
     "output_type": "stream",
     "text": [
      "{'author': '', 'category': '', 'comments': '', 'content_status': '', 'created': 'None', 'identifier': '', 'keywords': '', 'language': '', 'last_modified_by': 'python-pptx', 'last_printed': 'None', 'modified': '2024-04-08 03:41:07', 'revision': '1', 'subject': '', 'title': 'PowerPoint Presentation', 'version': ''}\n",
      "Processing /Users/sahuguet/Downloads/PPTX/Affordable Housing Tech.pptx ...\n",
      "{'author': '', 'category': '', 'comments': '', 'content_status': '', 'created': 'None', 'identifier': '', 'keywords': '', 'language': '', 'last_modified_by': 'python-pptx', 'last_printed': 'None', 'modified': '2024-04-08 03:41:08', 'revision': '1', 'subject': '', 'title': 'PowerPoint Presentation', 'version': ''}\n"
     ]
    }
   ],
   "source": [
    "for file in pptx_files:\n",
    "    process_pptx_file(file)"
   ]
  }
 ],
 "metadata": {
  "kernelspec": {
   "display_name": "Python 3",
   "language": "python",
   "name": "python3"
  },
  "language_info": {
   "codemirror_mode": {
    "name": "ipython",
    "version": 3
   },
   "file_extension": ".py",
   "mimetype": "text/x-python",
   "name": "python",
   "nbconvert_exporter": "python",
   "pygments_lexer": "ipython3",
   "version": "3.8.0"
  }
 },
 "nbformat": 4,
 "nbformat_minor": 2
}
